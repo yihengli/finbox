{
 "cells": [
  {
   "cell_type": "code",
   "execution_count": 1,
   "metadata": {
    "ExecuteTime": {
     "end_time": "2019-03-19T07:55:00.586111Z",
     "start_time": "2019-03-19T07:55:00.505736Z"
    }
   },
   "outputs": [],
   "source": [
    "%load_ext autoreload\n",
    "%autoreload 2"
   ]
  },
  {
   "cell_type": "code",
   "execution_count": 2,
   "metadata": {
    "ExecuteTime": {
     "end_time": "2019-03-19T07:55:02.797765Z",
     "start_time": "2019-03-19T07:55:01.027737Z"
    }
   },
   "outputs": [],
   "source": [
    "import finbox\n",
    "import pandas as pd"
   ]
  },
  {
   "cell_type": "code",
   "execution_count": 3,
   "metadata": {
    "ExecuteTime": {
     "end_time": "2019-03-19T07:55:04.758866Z",
     "start_time": "2019-03-19T07:55:03.184808Z"
    }
   },
   "outputs": [],
   "source": [
    "spy = finbox.data.equity.get_history('SPY', fromdate='2018-01-01',\n",
    "                                     todate='2018-03-15', set_index=True)\n",
    "lqd = finbox.data.equity.get_history('LQD', fromdate='2018-01-01',\n",
    "                                     todate='2018-03-15', set_index=True)\n",
    "weights = pd.DataFrame({'SPY': 1, 'LQD': 0}, index=spy.index)\n",
    "weights.iloc[2:5, :] = [.5, .5]"
   ]
  },
  {
   "cell_type": "code",
   "execution_count": 9,
   "metadata": {
    "ExecuteTime": {
     "end_time": "2019-03-19T07:55:43.378884Z",
     "start_time": "2019-03-19T07:55:39.217989Z"
    },
    "scrolled": false
   },
   "outputs": [],
   "source": [
    "strat = finbox.backtest.build_weights_rebalance_strategy(\n",
    "    tickers=['SPY', 'LQD'],\n",
    "    weights=weights,\n",
    "    datasets=[spy, lqd],\n",
    "    lazy_rebalance=True,\n",
    "    is_debug=False,\n",
    "    commission_settings=[{'commission': 0.01}]\n",
    ")\n",
    "\n",
    "rb = finbox.backtest.ReportBuilder\n",
    "rb = rb(strat, live_start_date=None)"
   ]
  },
  {
   "cell_type": "code",
   "execution_count": 5,
   "metadata": {
    "ExecuteTime": {
     "end_time": "2019-03-19T07:55:08.050842Z",
     "start_time": "2019-03-19T07:55:07.897666Z"
    }
   },
   "outputs": [],
   "source": [
    "from finbox.backtest.pyfolio import show_perf_stats"
   ]
  },
  {
   "cell_type": "code",
   "execution_count": 31,
   "metadata": {
    "ExecuteTime": {
     "end_time": "2019-03-19T08:06:39.321375Z",
     "start_time": "2019-03-19T08:06:39.040160Z"
    }
   },
   "outputs": [
    {
     "data": {
      "text/html": [
       "<table border=\"1\" class=\"dataframe\">\n",
       "  <thead>\n",
       "    <tr style=\"text-align: right;\"><th>Start date</th><td colspan=5>2018-01-02</td></tr>\n",
       "    <tr style=\"text-align: right;\"><th>End date</th><td colspan=5>2018-03-14</td></tr>\n",
       "    <tr style=\"text-align: right;\"><th>In-sample months</th><td colspan=5>1</td></tr>\n",
       "    <tr style=\"text-align: right;\"><th>Out-of-sample months</th><td colspan=5>1</td></tr>\n",
       "    <tr style=\"text-align: right;\">\n",
       "      <th></th>\n",
       "      <th>In-sample</th>\n",
       "      <th>Out-of-sample</th>\n",
       "      <th>Strategy</th>\n",
       "      <th>SPY</th>\n",
       "    </tr>\n",
       "  </thead>\n",
       "  <tbody>\n",
       "    <tr>\n",
       "      <th>Annual return</th>\n",
       "      <td>13.2%</td>\n",
       "      <td>-18.6%</td>\n",
       "      <td>-6.5%</td>\n",
       "      <td>15.8%</td>\n",
       "    </tr>\n",
       "    <tr>\n",
       "      <th>Cumulative returns</th>\n",
       "      <td>1.0%</td>\n",
       "      <td>-2.3%</td>\n",
       "      <td>-1.3%</td>\n",
       "      <td>3.0%</td>\n",
       "    </tr>\n",
       "    <tr>\n",
       "      <th>Annual volatility</th>\n",
       "      <td>9.9%</td>\n",
       "      <td>23.8%</td>\n",
       "      <td>19.1%</td>\n",
       "      <td>18.9%</td>\n",
       "    </tr>\n",
       "    <tr>\n",
       "      <th>Sharpe ratio</th>\n",
       "      <td>1.31</td>\n",
       "      <td>-0.75</td>\n",
       "      <td>-0.26</td>\n",
       "      <td>0.87</td>\n",
       "    </tr>\n",
       "    <tr>\n",
       "      <th>Calmar ratio</th>\n",
       "      <td>7.38</td>\n",
       "      <td>-2.16</td>\n",
       "      <td>-0.64</td>\n",
       "      <td>1.57</td>\n",
       "    </tr>\n",
       "    <tr>\n",
       "      <th>Stability</th>\n",
       "      <td>0.58</td>\n",
       "      <td>0.21</td>\n",
       "      <td>0.15</td>\n",
       "      <td>0.04</td>\n",
       "    </tr>\n",
       "    <tr>\n",
       "      <th>Max drawdown</th>\n",
       "      <td>-1.8%</td>\n",
       "      <td>-8.6%</td>\n",
       "      <td>-10.1%</td>\n",
       "      <td>-10.1%</td>\n",
       "    </tr>\n",
       "    <tr>\n",
       "      <th>Omega ratio</th>\n",
       "      <td>1.24</td>\n",
       "      <td>0.88</td>\n",
       "      <td>0.95</td>\n",
       "      <td>1.17</td>\n",
       "    </tr>\n",
       "    <tr>\n",
       "      <th>Sortino ratio</th>\n",
       "      <td>1.98</td>\n",
       "      <td>-0.93</td>\n",
       "      <td>-0.32</td>\n",
       "      <td>1.11</td>\n",
       "    </tr>\n",
       "    <tr>\n",
       "      <th>Skew</th>\n",
       "      <td>-0.14</td>\n",
       "      <td>-1.06</td>\n",
       "      <td>-1.26</td>\n",
       "      <td>-1.49</td>\n",
       "    </tr>\n",
       "    <tr>\n",
       "      <th>Kurtosis</th>\n",
       "      <td>-0.64</td>\n",
       "      <td>1.04</td>\n",
       "      <td>2.77</td>\n",
       "      <td>3.39</td>\n",
       "    </tr>\n",
       "    <tr>\n",
       "      <th>Tail ratio</th>\n",
       "      <td>0.93</td>\n",
       "      <td>0.54</td>\n",
       "      <td>0.84</td>\n",
       "      <td>0.84</td>\n",
       "    </tr>\n",
       "    <tr>\n",
       "      <th>Daily value at risk</th>\n",
       "      <td>-1.2%</td>\n",
       "      <td>-3.1%</td>\n",
       "      <td>-2.4%</td>\n",
       "      <td>-2.3%</td>\n",
       "    </tr>\n",
       "    <tr>\n",
       "      <th>Gross leverage</th>\n",
       "      <td>0.95</td>\n",
       "      <td>1.00</td>\n",
       "      <td>0.98</td>\n",
       "      <td>NaN</td>\n",
       "    </tr>\n",
       "    <tr>\n",
       "      <th>Daily turnover</th>\n",
       "      <td>19.0%</td>\n",
       "      <td>0.0%</td>\n",
       "      <td>8.0%</td>\n",
       "      <td>NaN</td>\n",
       "    </tr>\n",
       "    <tr>\n",
       "      <th>Alpha</th>\n",
       "      <td>-0.38</td>\n",
       "      <td>-0.04</td>\n",
       "      <td>-0.21</td>\n",
       "      <td>NaN</td>\n",
       "    </tr>\n",
       "    <tr>\n",
       "      <th>Beta</th>\n",
       "      <td>0.89</td>\n",
       "      <td>1.00</td>\n",
       "      <td>0.98</td>\n",
       "      <td>NaN</td>\n",
       "    </tr>\n",
       "  </tbody>\n",
       "</table>"
      ],
      "text/plain": [
       "<IPython.core.display.HTML object>"
      ]
     },
     "metadata": {},
     "output_type": "display_data"
    }
   ],
   "source": [
    "show_perf_stats(rb.returns, factor_returns=[rb.benchmark_rets],\n",
    "                positions=rb.positions, transactions=rb.transactions,\n",
    "                jupyter=True, live_start_date='2018-02-01')"
   ]
  },
  {
   "cell_type": "code",
   "execution_count": null,
   "metadata": {},
   "outputs": [],
   "source": []
  }
 ],
 "metadata": {
  "hide_input": false,
  "kernelspec": {
   "display_name": "Python [conda env:finbox]",
   "language": "python",
   "name": "conda-env-finbox-py"
  },
  "language_info": {
   "codemirror_mode": {
    "name": "ipython",
    "version": 3
   },
   "file_extension": ".py",
   "mimetype": "text/x-python",
   "name": "python",
   "nbconvert_exporter": "python",
   "pygments_lexer": "ipython3",
   "version": "3.7.2"
  },
  "toc": {
   "base_numbering": 1,
   "nav_menu": {},
   "number_sections": false,
   "sideBar": true,
   "skip_h1_title": false,
   "title_cell": "Table of Contents",
   "title_sidebar": "Contents",
   "toc_cell": false,
   "toc_position": {},
   "toc_section_display": true,
   "toc_window_display": false
  },
  "varInspector": {
   "cols": {
    "lenName": 16,
    "lenType": 16,
    "lenVar": 40
   },
   "kernels_config": {
    "python": {
     "delete_cmd_postfix": "",
     "delete_cmd_prefix": "del ",
     "library": "var_list.py",
     "varRefreshCmd": "print(var_dic_list())"
    },
    "r": {
     "delete_cmd_postfix": ") ",
     "delete_cmd_prefix": "rm(",
     "library": "var_list.r",
     "varRefreshCmd": "cat(var_dic_list()) "
    }
   },
   "types_to_exclude": [
    "module",
    "function",
    "builtin_function_or_method",
    "instance",
    "_Feature"
   ],
   "window_display": false
  }
 },
 "nbformat": 4,
 "nbformat_minor": 2
}
